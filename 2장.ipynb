{
  "nbformat": 4,
  "nbformat_minor": 0,
  "metadata": {
    "colab": {
      "provenance": [],
      "authorship_tag": "ABX9TyOTgFHA1+vAWSE9O52z4LNp",
      "include_colab_link": true
    },
    "kernelspec": {
      "name": "python3",
      "display_name": "Python 3"
    },
    "language_info": {
      "name": "python"
    }
  },
  "cells": [
    {
      "cell_type": "markdown",
      "metadata": {
        "id": "view-in-github",
        "colab_type": "text"
      },
      "source": [
        "<a href=\"https://colab.research.google.com/github/gracesjy/handsonml2/blob/main/2%EC%9E%A5.ipynb\" target=\"_parent\"><img src=\"https://colab.research.google.com/assets/colab-badge.svg\" alt=\"Open In Colab\"/></a>"
      ]
    },
    {
      "cell_type": "markdown",
      "source": [
        "# 2장 머신러닝 프로젝트 처음부터 끝까지 한번 해 보기"
      ],
      "metadata": {
        "id": "ceJUS55pBj1K"
      }
    },
    {
      "cell_type": "markdown",
      "source": [
        "### 데이터 : 캘리포니아 인구조사 데이터를 사용해 주택 가격 모델을 만드는 것\n",
        "\n",
        "1. 문제의 정의\n",
        "\n",
        "레이블된 훈련 샘플이 있다면 .. 회귀\n",
        "여러개의 특성이 있으면 .. 다중 회귀\n",
        "\n",
        "2.성능 지표\n",
        "RMSE (Root Mean Square Error)\n",
        "\n"
      ],
      "metadata": {
        "id": "RYpvpE1XBxXf"
      }
    },
    {
      "cell_type": "code",
      "source": [
        "from pathlib import Path\n",
        "import pandas as pd\n",
        "import tarfile\n",
        "import urllib.request\n",
        "\n",
        "def load_housing_data():\n",
        "  tarball_path = Path(\"datasets/housing.tgz\")\n",
        "  if not tarball_path.is_file():\n",
        "    Path(\"datasets\").mkdir(parents=True, exist_ok=True)\n",
        "    url = \"https://github.com/ageron/data/raw/main/housing.tgz\"\n",
        "    urllib.request.urlretrieve(url, tarball_path)\n",
        "    with tarfile.open(tarball_path) as housing_tarball:\n",
        "      housing_tarball.extractall(path=\"datasets\")\n",
        "  return pd.read_csv(\"datasets/housing/housing.csv\")"
      ],
      "metadata": {
        "id": "QxHRCqLrCrD5"
      },
      "execution_count": null,
      "outputs": []
    },
    {
      "cell_type": "code",
      "source": [],
      "metadata": {
        "id": "nZM79P-sBrYP"
      },
      "execution_count": null,
      "outputs": []
    }
  ]
}